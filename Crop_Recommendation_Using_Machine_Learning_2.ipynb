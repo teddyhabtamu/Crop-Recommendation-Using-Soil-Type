{
 "cells": [
  {
   "cell_type": "code",
   "execution_count": 1,
   "id": "d581fda7",
   "metadata": {},
   "outputs": [],
   "source": [
    "# Import necessary libraries\n",
    "import pandas as pd\n",
    "import numpy as np\n",
    "import matplotlib.pyplot as plt\n",
    "import seaborn as sns\n",
    "from sklearn.model_selection import train_test_split, cross_val_score, GridSearchCV\n",
    "from sklearn.ensemble import RandomForestClassifier\n",
    "from sklearn.preprocessing import StandardScaler, LabelEncoder\n",
    "from sklearn.metrics import confusion_matrix, classification_report\n",
    "import pickle\n",
    "\n",
    "# Define crop dictionary for manual label mapping\n",
    "crop_dict = {\n",
    "    'rice': 1,\n",
    "    'maize': 2,\n",
    "    'jute': 3,\n",
    "    'cotton': 4,\n",
    "    'coconut': 5,\n",
    "    'papaya': 6,\n",
    "    'orange': 7,\n",
    "    'apple': 8,\n",
    "    'muskmelon': 9,\n",
    "    'watermelon': 10,\n",
    "    'grapes': 11,\n",
    "    'mango': 12,\n",
    "    'banana': 13,\n",
    "    'pomegranate': 14,\n",
    "    'lentil': 15,\n",
    "    'blackgram': 16,\n",
    "    'mungbean': 17,\n",
    "    'mothbeans': 18,\n",
    "    'pigeonpeas': 19,\n",
    "    'kidneybeans': 20,\n",
    "    'chickpea': 21,\n",
    "    'coffee': 22\n",
    "}\n",
    "\n",
    "# Load Data\n",
    "crop = pd.read_csv(\"Crop_recommendation.csv\")\n",
    "\n",
    "# Map string labels to numerical values\n",
    "crop['label'] = crop['label'].map(crop_dict)"
   ]
  },
  {
   "cell_type": "markdown",
   "id": "f2097010",
   "metadata": {},
   "source": [
    "## Exploratory Data Analysis (EDA)"
   ]
  },
  {
   "cell_type": "code",
   "execution_count": 2,
   "id": "94b016f9",
   "metadata": {},
   "outputs": [],
   "source": [
    "print(\"Dataset Shape:\", crop.shape)\n",
    "print(\"\\nDataset Info:\")\n",
    "crop.info()\n",
    "print(\"\\nMissing Values:\\n\", crop.isnull().sum())\n",
    "print(\"\\nDuplicate Rows:\", crop.duplicated().sum())\n",
    "print(\"\\nSummary Statistics:\\n\", crop.describe())\n",
    "\n",
    "# Debug: Check unique labels after mapping\n",
    "print(\"\\nUnique Labels in Dataset (after mapping):\\n\", crop['label'].unique())\n",
    "\n",
    "# Visualization 1: Distribution of Features\n",
    "plt.figure(figsize=(15, 10))\n",
    "features = ['N', 'P', 'K', 'temperature', 'humidity', 'ph']\n",
    "colors = ['#8B4513', '#D2B48C', '#6B8E23', '#F5F5DC', '#A8B5A2', '#D4B996']\n",
    "for i, (feature, color) in enumerate(zip(features, colors), 1):\n",
    "    plt.subplot(2, 3, i)\n",
    "    sns.histplot(crop[feature], bins=30, kde=True, color=color)\n",
    "    plt.title(f'Distribution of {feature}')\n",
    "    plt.xlabel(feature)\n",
    "    plt.ylabel('Frequency')\n",
    "plt.tight_layout()\n",
    "plt.show()\n",
    "\n",
    "# Visualization 2: Crop Distribution\n",
    "plt.figure(figsize=(12, 6))\n",
    "inv_crop_dict = {v: k for k, v in crop_dict.items()}\n",
    "crop['label_name'] = crop['label'].map(inv_crop_dict)\n",
    "sns.countplot(data=crop, x='label_name', palette=colors[:len(crop_dict)], order=crop['label_name'].value_counts().index)\n",
    "plt.title('Distribution of Crops in Dataset')\n",
    "plt.xlabel('Crop')\n",
    "plt.ylabel('Count')\n",
    "plt.xticks(rotation=45, ha='right')\n",
    "plt.tight_layout()\n",
    "plt.show()\n",
    "\n",
    "# Visualization 3: Pair Plot\n",
    "sns.pairplot(crop, hue='label_name', palette=colors[:len(crop_dict)], diag_kind='kde')\n",
    "plt.suptitle('Pairwise Relationships of Features by Crop', y=1.02)\n",
    "plt.show()\n",
    "\n",
    "# Visualization 4: Correlation Heatmap\n",
    "numeric_crop = crop.drop('label_name', axis=1).select_dtypes(include=['number'])\n",
    "plt.figure(figsize=(10, 8))\n",
    "sns.heatmap(numeric_crop.corr(), annot=True, cmap='YlOrBr', vmin=-1, vmax=1)\n",
    "plt.title('Correlation Matrix of Features')\n",
    "plt.tight_layout()\n",
    "plt.show()\n",
    "\n",
    "# Drop the temporary label_name column\n",
    "crop = crop.drop('label_name', axis=1)"
   ]
  },
  {
   "cell_type": "markdown",
   "id": "dd999eaf",
   "metadata": {},
   "source": [
    "## Preprocessing"
   ]
  },
  {
   "cell_type": "code",
   "execution_count": 3,
   "id": "93037b74",
   "metadata": {},
   "outputs": [],
   "source": [
    "# Drop 'rainfall' (assuming domain knowledge justifies this; otherwise, analyze feature importance)\n",
    "crop = crop.drop('rainfall', axis=1)\n",
    "\n",
    "# Correlation Analysis\n",
    "numeric_crop = crop.select_dtypes(include=['number'])\n",
    "print(\"\\nCorrelation Matrix:\\n\", numeric_crop.corr())\n",
    "\n",
    "# Prepare features and target\n",
    "X = crop.drop('label', axis=1)\n",
    "y = crop['label']\n",
    "\n",
    "# Encode labels (optional, since already numerical, but kept for consistency)\n",
    "le = LabelEncoder()\n",
    "y_encoded = le.fit_transform(y)\n",
    "\n",
    "# Debug: Check LabelEncoder classes\n",
    "print(\"\\nLabelEncoder Classes:\", le.classes_)\n",
    "print(\"Type of LabelEncoder Classes:\", type(le.classes_[0]))"
   ]
  },
  {
   "cell_type": "markdown",
   "id": "74ad1277",
   "metadata": {},
   "source": [
    "## Model Training"
   ]
  },
  {
   "cell_type": "code",
   "execution_count": 4,
   "id": "61577d75",
   "metadata": {},
   "outputs": [],
   "source": [
    "# Split data\n",
    "X_train, X_test, y_train, y_test = train_test_split(X, y_encoded, test_size=0.2, random_state=42, stratify=y_encoded)\n",
    "\n",
    "# Scale features using StandardScaler\n",
    "sc = StandardScaler()\n",
    "X_train_scaled = sc.fit_transform(X_train)\n",
    "X_test_scaled = sc.transform(X_test)\n",
    "\n",
    "# Initialize RandomForestClassifier\n",
    "randclf = RandomForestClassifier(random_state=42)\n",
    "\n",
    "# Hyperparameter tuning with GridSearchCV\n",
    "param_grid = {\n",
    "    'n_estimators': [100, 200, 300],\n",
    "    'max_depth': [None, 10, 20, 30],\n",
    "    'min_samples_split': [2, 5, 10],\n",
    "    'min_samples_leaf': [1, 2, 4]\n",
    "}\n",
    "grid_search = GridSearchCV(estimator=randclf, param_grid=param_grid, cv=5, scoring='accuracy', n_jobs=-1)\n",
    "grid_search.fit(X_train_scaled, y_train)\n",
    "\n",
    "# Best model\n",
    "randclf = grid_search.best_estimator_\n",
    "print(\"\\nBest Parameters from GridSearchCV:\", grid_search.best_params_)\n",
    "print(\"Best Cross-Validation Score:\", grid_search.best_score_)\n",
    "\n",
    "# Cross-validation scores\n",
    "cv_scores = cross_val_score(randclf, X_train_scaled, y_train, cv=5, scoring='accuracy')\n",
    "print(\"\\nCross-Validation Scores:\", cv_scores)\n",
    "print(\"Mean CV Score:\", cv_scores.mean())\n",
    "print(\"Standard Deviation CV Score:\", cv_scores.std())"
   ]
  },
  {
   "cell_type": "markdown",
   "id": "5d3d5a56",
   "metadata": {},
   "source": [
    "## Model Evaluation"
   ]
  },
  {
   "cell_type": "code",
   "execution_count": 5,
   "id": "eea6e529",
   "metadata": {},
   "outputs": [],
   "source": [
    "# Evaluate on test set\n",
    "y_pred = randclf.predict(X_test_scaled)\n",
    "\n",
    "# Confusion Matrix\n",
    "crop_labels = list(crop_dict.keys())\n",
    "print(\"\\nCrop Labels for Confusion Matrix:\", crop_labels)\n",
    "cm = confusion_matrix(y_test, y_pred)\n",
    "plt.figure(figsize=(12, 8))\n",
    "sns.heatmap(cm, annot=True, fmt='d', cmap='Blues', xticklabels=crop_labels, yticklabels=crop_labels)\n",
    "plt.title('Confusion Matrix for Crop Recommendation System', pad=20)\n",
    "plt.xlabel('Predicted Crops')\n",
    "plt.ylabel('Actual Crops')\n",
    "plt.tight_layout()\n",
    "plt.show()\n",
    "\n",
    "# Detailed classification report\n",
    "print(\"\\nClassification Report:\\n\", classification_report(y_test, y_pred, target_names=crop_labels))\n",
    "\n",
    "# Feature Importance\n",
    "feature_importance = pd.DataFrame({'Feature': X.columns, 'Importance': randclf.feature_importances_})\n",
    "print(\"\\nFeature Importance:\\n\", feature_importance.sort_values(by='Importance', ascending=False))\n",
    "\n",
    "# Visualization: Feature Importance Bar Plot\n",
    "plt.figure(figsize=(8, 6))\n",
    "colors = ['#8B4513', '#D2B48C', '#6B8E23', '#F5F5DC', '#A8B5A2', '#D4B996']\n",
    "sns.barplot(data=feature_importance.sort_values(by='Importance', ascending=False), x='Importance', y='Feature', palette=colors[:len(X.columns)])\n",
    "plt.title('Feature Importance in Random Forest Model')\n",
    "plt.xlabel('Importance')\n",
    "plt.ylabel('Feature')\n",
    "plt.tight_layout()\n",
    "plt.show()"
   ]
  },
  {
   "cell_type": "markdown",
   "id": "b2522807",
   "metadata": {},
   "source": [
    "## Recommendation Function"
   ]
  },
  {
   "cell_type": "code",
   "execution_count": 6,
   "id": "1cc06e41",
   "metadata": {},
   "outputs": [],
   "source": [
    "# Recommendation Function (returns crop name as string)\n",
    "def recommendation(N, P, K, temperature, humidity, ph):\n",
    "    features = np.array([[N, P, K, temperature, humidity, ph]])\n",
    "    print(f\"Raw features: {features}\")\n",
    "    \n",
    "    sc_features = sc.transform(features)\n",
    "    print(f\"After StandardScaler: {sc_features}\")\n",
    "    \n",
    "    prediction = randclf.predict(sc_features)\n",
    "    print(f\"Raw prediction: {prediction}\")\n",
    "    \n",
    "    # Convert numerical prediction to crop name using crop_dict\n",
    "    inv_crop_dict = {v: k for k, v in crop_dict.items()}\n",
    "    return inv_crop_dict[le.inverse_transform(prediction)[0]]"
   ]
  },
  {
   "cell_type": "markdown",
   "id": "5d3d5a56",
   "metadata": {},
   "source": [
    "## Test Recommendation with Visualization"
   ]
  },
  {
   "cell_type": "code",
   "execution_count": 7,
   "id": "c60e0c24",
   "metadata": {},
   "outputs": [],
   "source": [
    "N = 90\n",
    "P = 42\n",
    "K = 43\n",
    "temperature = 20.879744\n",
    "humidity = 82.002744\n",
    "ph = 6.502985\n",
    "predict = recommendation(N, P, K, temperature, humidity, ph)\n",
    "print(\"\\nPredicted Crop:\", predict)\n",
    "\n",
    "# Visualization: Prediction Confidence Distribution (Approximated)\n",
    "predictions = randclf.predict_proba(X_test_scaled)\n",
    "sample_confidence = predictions[np.argmax(predictions, axis=1) == y_test][0]  # Confidence for correct predictions\n",
    "plt.figure(figsize=(8, 6))\n",
    "sns.barplot(x=range(len(sample_confidence)), y=sample_confidence, palette=colors)\n",
    "plt.title('Confidence Scores for Sample Prediction')\n",
    "plt.xlabel('Crop Index')\n",
    "plt.ylabel('Confidence Score')\n",
    "plt.xticks(ticks=range(len(crop_labels)), labels=crop_labels, rotation=45, ha='right')\n",
    "plt.tight_layout()\n",
    "plt.show()"
   ]
  },
  {
   "cell_type": "markdown",
   "id": "5d3d5a56",
   "metadata": {},
   "source": [
    "## Save the Model and Scalers"
   ]
  },
  {
   "cell_type": "code",
   "execution_count": 8,
   "id": "242f371d",
   "metadata": {},
   "outputs": [],
   "source": [
    "pickle.dump(randclf, open('model.pkl', 'wb'))\n",
    "pickle.dump(sc, open('standscaler.pkl', 'wb'))\n",
    "pickle.dump(le, open('labelencoder.pkl', 'wb'))"
   ]
  }
 ],
 "metadata": {
  "kernelspec": {
   "display_name": "Python 3",
   "language": "python",
   "name": "python3"
  },
  "language_info": {
   "codemirror_mode": {
    "name": "ipython",
    "version": 3
   },
   "file_extension": ".py",
   "mimetype": "text/x-python",
   "name": "python",
   "nbconvert_exporter": "python",
   "pygments_lexer": "ipython3",
   "version": "3.10.12"
  }
 },
 "nbformat": 4,
 "nbformat_minor": 5
}
